{
 "cells": [
  {
   "cell_type": "code",
   "execution_count": 1,
   "metadata": {},
   "outputs": [],
   "source": [
    "from __future__ import division, print_function\n",
    "%matplotlib inline"
   ]
  },
  {
   "cell_type": "code",
   "execution_count": 2,
   "metadata": {},
   "outputs": [],
   "source": [
    "import sympy\n",
    "from  sympy import Matrix, eye, symbols, sin, cos, zeros, sqrt\n",
    "from sympy.physics.mechanics import *\n",
    "from IPython.display import display\n",
    "sympy.init_printing(use_latex='mathjax')\n"
   ]
  },
  {
   "cell_type": "markdown",
   "metadata": {},
   "source": [
    "# Quaternion Math"
   ]
  },
  {
   "cell_type": "code",
   "execution_count": 3,
   "metadata": {},
   "outputs": [],
   "source": [
    "def expq(n):\n",
    "    n *= 0.5\n",
    "    nNorm = n.norm()\n",
    "    qn = Matrix([cos(nNorm),n/nNorm*sin(nNorm)])\n",
    "    return qn\n",
    "\n",
    "def quat2dcm(q):\n",
    "    \"\"\"\n",
    "    Convert quaternion to DCM\n",
    "    \"\"\"\n",
    "    \n",
    "    # Extract components\n",
    "    w = q[0]\n",
    "    x = q[1]\n",
    "    y = q[2]\n",
    "    z = q[3]\n",
    "    \n",
    "    # Reduce repeated calculations\n",
    "    ww = w*w\n",
    "    xx = x*x\n",
    "    yy = y*y\n",
    "    zz = z*z  \n",
    "    wx = w*x\n",
    "    wy = w*y\n",
    "    wz = w*z\n",
    "    xy = x*y\n",
    "    xz = x*z\n",
    "    yz = y*z\n",
    "    \n",
    "    # Build Direction Cosine Matrix (DCM)   \n",
    "    dcm = Matrix([\n",
    "        [ww + xx - yy - zz,       2*(xy - wz),       2*(xz + wy)],\n",
    "        [      2*(xy + wz), ww - xx + yy - zz,       2*(yz - wx)],\n",
    "        [      2*(xz - wy),       2*(yz + wx), ww - xx - yy + zz]\n",
    "    ])\n",
    "    return dcm\n",
    "\n",
    "def dcm2quat(dcm):\n",
    "    \"\"\"\n",
    "    Determine quaternion corresponding to dcm using\n",
    "    the stanley method. \n",
    "    \n",
    "    Flips sign to always return shortest path quaterion\n",
    "    so w >= 0\n",
    "    \n",
    "    Converts the 3x3 DCM into the quaterion where the \n",
    "    first component is the real part\n",
    "    \"\"\"\n",
    "    \n",
    "    tr = Matrix.trace(dcm)\n",
    "    \n",
    "    w = 0.25*(1+tr)\n",
    "    x = 0.25*(1+2*dcm[0,0]-tr)\n",
    "    y = 0.25*(1+2*dcm[1,1]-tr)\n",
    "    z = 0.25*(1+2*dcm[2,2]-tr)\n",
    "    \n",
    "    #kMax = np.argmax([w,x,y,z])\n",
    "    \n",
    "    kMax = 0\n",
    "    \n",
    "    if kMax == 0:\n",
    "        w = sqrt(w)\n",
    "        x = 0.25*(dcm[1,2]-dcm[2,1])/w\n",
    "        y = 0.25*(dcm[2,0]-dcm[0,2])/w\n",
    "        z = 0.25*(dcm[0,1]-dcm[1,0])/w\n",
    "    \n",
    "    elif kMax == 1:\n",
    "        x = sqrt(x)\n",
    "        w = 0.25*(dcm[1,2]-dcm[2,1])/x\n",
    "        if w<0:\n",
    "            x = -x\n",
    "            w = -w\n",
    "        y = 0.25*(dcm[0,1]+dcm[1,0])/x\n",
    "        z = 0.25*(dcm[2,0]+dcm[0,2])/x\n",
    "        \n",
    "    elif kMax == 2:\n",
    "        y = sqrt(y)\n",
    "        w = 0.25*(dcm[2,0]-dcm[0,2])/y\n",
    "        if w<0:\n",
    "            y = -y\n",
    "            w = -w\n",
    "        x = 0.25*(dcm[0,1]+dcm[1,0])/y\n",
    "        z = 0.25*(dcm[1,2]+dcm[2,1])/y\n",
    "        \n",
    "    elif kMax == 3:\n",
    "        z = sqrt(z)\n",
    "        w = 0.25*(dcm[0,1]-dcm[1,0])/z\n",
    "        if w<0:\n",
    "            z = -z\n",
    "            w = -w\n",
    "        x = 0.25*(dcm[2,0]+dcm[0,2])/z\n",
    "        y = 0.25*(dcm[1,2]+dcm[2,1])/z\n",
    "        \n",
    "    q = Matrix([w,x,y,z])\n",
    "    \n",
    "    return q\n",
    "\n",
    "def skew3(v):\n",
    "    vx,vy,vz = v\n",
    "    out = Matrix([[  0, -vz,   vy],\n",
    "                  [ vz,   0,  -vx],\n",
    "                  [-vy,  vx,    0]])\n",
    "    return out\n",
    "\n",
    "def skew4Left(v):\n",
    "    if len(v)==3:\n",
    "        v = Matrix.vstack(zeros(1),v)\n",
    "    w,x,y,z = v\n",
    "    out = Matrix([\n",
    "            [w, -x, -y, -z],\n",
    "            [x,  w, -z,  y],\n",
    "            [y,  z,  w, -x],\n",
    "            [z, -y,  x,  w],\n",
    "        ])        \n",
    "    return out\n",
    "\n",
    "def skew4Right(v):\n",
    "    if len(v)==3:\n",
    "        v = Matrix.vstack(zeros(1),v)\n",
    "    w,x,y,z = v\n",
    "    out = Matrix([\n",
    "            [w, -x, -y, -z],\n",
    "            [x,  w,  z, -y],\n",
    "            [y, -z,  w,  x],\n",
    "            [z,  y, -x,  w],\n",
    "        ])      \n",
    "    return out\n",
    "\n",
    "\n",
    "def quatConj(q):\n",
    "    q_out = Matrix(q[:])\n",
    "    q_out = q_out.T*sympy.diag(1,-1,-1,-1)\n",
    "    q_out = q_out.T\n",
    "\n",
    "    return q_out\n",
    "\n",
    "def qRot(q,v):\n",
    "    qPrime = quatConj(q)\n",
    "    v = Matrix.vstack(zeros(1),v)\n",
    "    vout = skew4Left(q)*skew4Right(qPrime)*v\n",
    "    return Matrix(vout[1:])"
   ]
  },
  {
   "cell_type": "markdown",
   "metadata": {},
   "source": [
    "# Setup"
   ]
  },
  {
   "cell_type": "code",
   "execution_count": 4,
   "metadata": {},
   "outputs": [],
   "source": [
    "qw,qx,qy,qz = symbols('q_w q_x q_y q_z')\n",
    "t = symbols('T')\n",
    "mx,my,mz = symbols('m_x m_y m_z') # measured \n",
    "ax,ay,az = symbols('a_x a_y a_z') # measured\n",
    "wx,wy,wz = symbols('w_x w_y w_z') # measured\n",
    "g = symbols('g')\n",
    "bx,by,bz = symbols('b_x b_y b_z') \n",
    "\n",
    "q_toLfromB = Matrix([qw,qx,qy,qz])\n",
    "\n",
    "magMeas = Matrix([mx,my,mz]) \n",
    "accelMeas = Matrix([ax,ay,az])\n",
    "wMeas = Matrix([wx,wy,wz]) \n",
    "\n",
    "B_L = Matrix([mx,0,0])\n",
    "g_L = Matrix([0,0,g])"
   ]
  },
  {
   "cell_type": "markdown",
   "metadata": {},
   "source": [
    "# Validate quaternion math"
   ]
  },
  {
   "cell_type": "code",
   "execution_count": 5,
   "metadata": {
    "scrolled": true
   },
   "outputs": [
    {
     "name": "stdout",
     "output_type": "stream",
     "text": [
      "dcm\n"
     ]
    },
    {
     "data": {
      "text/latex": [
       "$\\displaystyle \\left[\\begin{matrix}q_{w}^{2} + q_{x}^{2} - q_{y}^{2} - q_{z}^{2} & - 2 q_{w} q_{z} + 2 q_{x} q_{y} & 2 q_{w} q_{y} + 2 q_{x} q_{z}\\\\2 q_{w} q_{z} + 2 q_{x} q_{y} & q_{w}^{2} - q_{x}^{2} + q_{y}^{2} - q_{z}^{2} & - 2 q_{w} q_{x} + 2 q_{y} q_{z}\\\\- 2 q_{w} q_{y} + 2 q_{x} q_{z} & 2 q_{w} q_{x} + 2 q_{y} q_{z} & q_{w}^{2} - q_{x}^{2} - q_{y}^{2} + q_{z}^{2}\\end{matrix}\\right]$"
      ],
      "text/plain": [
       "⎡   2     2      2      2                                                    ⎤\n",
       "⎢q_w  + qₓ  - q_y  - q_z    -2⋅q_w⋅q_z + 2⋅qₓ⋅q_y      2⋅q_w⋅q_y + 2⋅qₓ⋅q_z  ⎥\n",
       "⎢                                                                            ⎥\n",
       "⎢                             2     2      2      2                          ⎥\n",
       "⎢  2⋅q_w⋅q_z + 2⋅qₓ⋅q_y    q_w  - qₓ  + q_y  - q_z    -2⋅q_w⋅qₓ + 2⋅q_y⋅q_z  ⎥\n",
       "⎢                                                                            ⎥\n",
       "⎢                                                       2     2      2      2⎥\n",
       "⎣ -2⋅q_w⋅q_y + 2⋅qₓ⋅q_z      2⋅q_w⋅qₓ + 2⋅q_y⋅q_z    q_w  - qₓ  - q_y  + q_z ⎦"
      ]
     },
     "metadata": {},
     "output_type": "display_data"
    },
    {
     "name": "stdout",
     "output_type": "stream",
     "text": [
      "[q]L\n"
     ]
    },
    {
     "data": {
      "text/latex": [
       "$\\displaystyle \\left[\\begin{matrix}q_{w} & - q_{x} & - q_{y} & - q_{z}\\\\q_{x} & q_{w} & - q_{z} & q_{y}\\\\q_{y} & q_{z} & q_{w} & - q_{x}\\\\q_{z} & - q_{y} & q_{x} & q_{w}\\end{matrix}\\right]$"
      ],
      "text/plain": [
       "⎡q_w  -qₓ   -q_y  -q_z⎤\n",
       "⎢                     ⎥\n",
       "⎢qₓ   q_w   -q_z  q_y ⎥\n",
       "⎢                     ⎥\n",
       "⎢q_y  q_z   q_w   -qₓ ⎥\n",
       "⎢                     ⎥\n",
       "⎣q_z  -q_y   qₓ   q_w ⎦"
      ]
     },
     "metadata": {},
     "output_type": "display_data"
    },
    {
     "name": "stdout",
     "output_type": "stream",
     "text": [
      "[q]R\n"
     ]
    },
    {
     "data": {
      "text/latex": [
       "$\\displaystyle \\left[\\begin{matrix}q_{w} & - q_{x} & - q_{y} & - q_{z}\\\\q_{x} & q_{w} & q_{z} & - q_{y}\\\\q_{y} & - q_{z} & q_{w} & q_{x}\\\\q_{z} & q_{y} & - q_{x} & q_{w}\\end{matrix}\\right]$"
      ],
      "text/plain": [
       "⎡q_w  -qₓ   -q_y  -q_z⎤\n",
       "⎢                     ⎥\n",
       "⎢qₓ   q_w   q_z   -q_y⎥\n",
       "⎢                     ⎥\n",
       "⎢q_y  -q_z  q_w    qₓ ⎥\n",
       "⎢                     ⎥\n",
       "⎣q_z  q_y   -qₓ   q_w ⎦"
      ]
     },
     "metadata": {},
     "output_type": "display_data"
    }
   ],
   "source": [
    "print('dcm')\n",
    "display( quat2dcm(q_toLfromB) )\n",
    "print('[q]L')\n",
    "display( skew4Left(q_toLfromB) )\n",
    "print('[q]R')\n",
    "display( skew4Right(q_toLfromB) )\n",
    "\n"
   ]
  },
  {
   "cell_type": "markdown",
   "metadata": {},
   "source": [
    "# Predict"
   ]
  },
  {
   "cell_type": "code",
   "execution_count": 6,
   "metadata": {},
   "outputs": [
    {
     "name": "stdout",
     "output_type": "stream",
     "text": [
      "F\n"
     ]
    },
    {
     "data": {
      "text/latex": [
       "$\\displaystyle \\left[\\begin{matrix}1 & - \\frac{T w_{x}}{2} & - \\frac{T w_{y}}{2} & - \\frac{T w_{z}}{2}\\\\\\frac{T w_{x}}{2} & 1 & \\frac{T w_{z}}{2} & - \\frac{T w_{y}}{2}\\\\\\frac{T w_{y}}{2} & - \\frac{T w_{z}}{2} & 1 & \\frac{T w_{x}}{2}\\\\\\frac{T w_{z}}{2} & \\frac{T w_{y}}{2} & - \\frac{T w_{x}}{2} & 1\\end{matrix}\\right]$"
      ],
      "text/plain": [
       "⎡       -T⋅wₓ    -T⋅w_y   -T⋅w_z ⎤\n",
       "⎢  1    ──────   ───────  ───────⎥\n",
       "⎢         2         2        2   ⎥\n",
       "⎢                                ⎥\n",
       "⎢T⋅wₓ             T⋅w_z   -T⋅w_y ⎥\n",
       "⎢────      1      ─────   ───────⎥\n",
       "⎢ 2                 2        2   ⎥\n",
       "⎢                                ⎥\n",
       "⎢T⋅w_y  -T⋅w_z             T⋅wₓ  ⎥\n",
       "⎢─────  ───────     1      ────  ⎥\n",
       "⎢  2       2                2    ⎥\n",
       "⎢                                ⎥\n",
       "⎢T⋅w_z   T⋅w_y   -T⋅wₓ           ⎥\n",
       "⎢─────   ─────   ──────      1   ⎥\n",
       "⎣  2       2       2             ⎦"
      ]
     },
     "metadata": {},
     "output_type": "display_data"
    },
    {
     "name": "stdout",
     "output_type": "stream",
     "text": [
      "G\n"
     ]
    },
    {
     "data": {
      "text/latex": [
       "$\\displaystyle \\left[\\begin{matrix}1 & 0 & 0 & 0\\\\0 & 1 & 0 & 0\\\\0 & 0 & 1 & 0\\\\0 & 0 & 0 & 1\\end{matrix}\\right]$"
      ],
      "text/plain": [
       "⎡1  0  0  0⎤\n",
       "⎢          ⎥\n",
       "⎢0  1  0  0⎥\n",
       "⎢          ⎥\n",
       "⎢0  0  1  0⎥\n",
       "⎢          ⎥\n",
       "⎣0  0  0  1⎦"
      ]
     },
     "metadata": {},
     "output_type": "display_data"
    }
   ],
   "source": [
    "F = eye(4) + t/2*skew4Right(wMeas)\n",
    "G = eye(4)\n",
    "\n",
    "print('F')\n",
    "display(F)\n",
    "print('G')\n",
    "display(G)"
   ]
  },
  {
   "cell_type": "markdown",
   "metadata": {},
   "source": [
    "# Update"
   ]
  },
  {
   "cell_type": "code",
   "execution_count": 7,
   "metadata": {},
   "outputs": [
    {
     "name": "stdout",
     "output_type": "stream",
     "text": [
      "hx_accel\n"
     ]
    },
    {
     "data": {
      "text/latex": [
       "$\\displaystyle \\left[\\begin{matrix}- g \\left(- 2 q_{w} q_{y} + 2 q_{x} q_{z}\\right)\\\\- g \\left(2 q_{w} q_{x} + 2 q_{y} q_{z}\\right)\\\\- g \\left(q_{w}^{2} - q_{x}^{2} - q_{y}^{2} + q_{z}^{2}\\right)\\end{matrix}\\right]$"
      ],
      "text/plain": [
       "⎡ -g⋅(-2⋅q_w⋅q_y + 2⋅qₓ⋅q_z)  ⎤\n",
       "⎢                             ⎥\n",
       "⎢  -g⋅(2⋅q_w⋅qₓ + 2⋅q_y⋅q_z)  ⎥\n",
       "⎢                             ⎥\n",
       "⎢   ⎛   2     2      2      2⎞⎥\n",
       "⎣-g⋅⎝q_w  - qₓ  - q_y  + q_z ⎠⎦"
      ]
     },
     "metadata": {},
     "output_type": "display_data"
    },
    {
     "name": "stdout",
     "output_type": "stream",
     "text": [
      "hx_mag\n"
     ]
    },
    {
     "data": {
      "text/latex": [
       "$\\displaystyle \\left[\\begin{matrix}m_{x} \\left(q_{w}^{2} + q_{x}^{2} - q_{y}^{2} - q_{z}^{2}\\right)\\\\m_{x} \\left(- 2 q_{w} q_{z} + 2 q_{x} q_{y}\\right)\\\\m_{x} \\left(2 q_{w} q_{y} + 2 q_{x} q_{z}\\right)\\end{matrix}\\right]$"
      ],
      "text/plain": [
       "⎡   ⎛   2     2      2      2⎞⎤\n",
       "⎢mₓ⋅⎝q_w  + qₓ  - q_y  - q_z ⎠⎥\n",
       "⎢                             ⎥\n",
       "⎢ mₓ⋅(-2⋅q_w⋅q_z + 2⋅qₓ⋅q_y)  ⎥\n",
       "⎢                             ⎥\n",
       "⎣  mₓ⋅(2⋅q_w⋅q_y + 2⋅qₓ⋅q_z)  ⎦"
      ]
     },
     "metadata": {},
     "output_type": "display_data"
    },
    {
     "name": "stdout",
     "output_type": "stream",
     "text": [
      "dhdx_accel\n"
     ]
    },
    {
     "data": {
      "text/latex": [
       "$\\displaystyle \\left[\\begin{matrix}2 g q_{y} & - 2 g q_{z} & 2 g q_{w} & - 2 g q_{x}\\\\- 2 g q_{x} & - 2 g q_{w} & - 2 g q_{z} & - 2 g q_{y}\\\\- 2 g q_{w} & 2 g q_{x} & 2 g q_{y} & - 2 g q_{z}\\end{matrix}\\right]$"
      ],
      "text/plain": [
       "⎡2⋅g⋅q_y   -2⋅g⋅q_z  2⋅g⋅q_w   -2⋅g⋅qₓ ⎤\n",
       "⎢                                      ⎥\n",
       "⎢-2⋅g⋅qₓ   -2⋅g⋅q_w  -2⋅g⋅q_z  -2⋅g⋅q_y⎥\n",
       "⎢                                      ⎥\n",
       "⎣-2⋅g⋅q_w   2⋅g⋅qₓ   2⋅g⋅q_y   -2⋅g⋅q_z⎦"
      ]
     },
     "metadata": {},
     "output_type": "display_data"
    },
    {
     "name": "stdout",
     "output_type": "stream",
     "text": [
      "Matrix([\n",
      "[ 2*g*q_y, -2*g*q_z,  2*g*q_w, -2*g*q_x],\n",
      "[-2*g*q_x, -2*g*q_w, -2*g*q_z, -2*g*q_y],\n",
      "[-2*g*q_w,  2*g*q_x,  2*g*q_y, -2*g*q_z]])\n",
      "dhdx_mag\n"
     ]
    },
    {
     "data": {
      "text/latex": [
       "$\\displaystyle \\left[\\begin{matrix}2 m_{x} q_{w} & 2 m_{x} q_{x} & - 2 m_{x} q_{y} & - 2 m_{x} q_{z}\\\\- 2 m_{x} q_{z} & 2 m_{x} q_{y} & 2 m_{x} q_{x} & - 2 m_{x} q_{w}\\\\2 m_{x} q_{y} & 2 m_{x} q_{z} & 2 m_{x} q_{w} & 2 m_{x} q_{x}\\end{matrix}\\right]$"
      ],
      "text/plain": [
       "⎡2⋅mₓ⋅q_w   2⋅mₓ⋅qₓ   -2⋅mₓ⋅q_y  -2⋅mₓ⋅q_z⎤\n",
       "⎢                                         ⎥\n",
       "⎢-2⋅mₓ⋅q_z  2⋅mₓ⋅q_y   2⋅mₓ⋅qₓ   -2⋅mₓ⋅q_w⎥\n",
       "⎢                                         ⎥\n",
       "⎣2⋅mₓ⋅q_y   2⋅mₓ⋅q_z  2⋅mₓ⋅q_w    2⋅mₓ⋅qₓ ⎦"
      ]
     },
     "metadata": {},
     "output_type": "display_data"
    },
    {
     "name": "stdout",
     "output_type": "stream",
     "text": [
      "Matrix([\n",
      "[ 2*m_x*q_w, 2*m_x*q_x, -2*m_x*q_y, -2*m_x*q_z],\n",
      "[-2*m_x*q_z, 2*m_x*q_y,  2*m_x*q_x, -2*m_x*q_w],\n",
      "[ 2*m_x*q_y, 2*m_x*q_z,  2*m_x*q_w,  2*m_x*q_x]])\n"
     ]
    }
   ],
   "source": [
    "hx_accel = -qRot(quatConj(q_toLfromB), g_L)\n",
    "hx_mag   =  qRot(quatConj(q_toLfromB), B_L)\n",
    "\n",
    "dhdx_accel = hx_accel.jacobian(q_toLfromB)\n",
    "dhdx_mag   = hx_mag.jacobian(q_toLfromB)\n",
    "\n",
    "\n",
    "print('hx_accel')\n",
    "display(hx_accel)\n",
    "print('hx_mag')\n",
    "display(hx_mag)\n",
    "print('dhdx_accel')\n",
    "display(dhdx_accel)\n",
    "mprint(dhdx_accel)\n",
    "print('dhdx_mag')\n",
    "display(dhdx_mag)\n",
    "mprint(dhdx_mag)"
   ]
  },
  {
   "cell_type": "code",
   "execution_count": 8,
   "metadata": {},
   "outputs": [],
   "source": [
    "qw,qx,qy,qz,vw,vx,vy,vz = symbols('q_w q_x q_y q_z v_w v_x v_y v_z')\n",
    "g = symbols('g')\n",
    "q = Matrix([qw,qx,qy,qz])\n",
    "v = Matrix([vw,vx,vy,vz])\n",
    "\n",
    "Istar = Matrix.diag([1,-1,-1,-1])\n",
    "\n",
    "dRdq = skew4Left(skew4Left(q)*v)*Istar + skew4Right(skew4Left(v)*quatConj(q))\n",
    "\n",
    "\n",
    "\n",
    "\n",
    "\n",
    "\n",
    "        "
   ]
  },
  {
   "cell_type": "code",
   "execution_count": null,
   "metadata": {},
   "outputs": [],
   "source": []
  },
  {
   "cell_type": "code",
   "execution_count": null,
   "metadata": {},
   "outputs": [],
   "source": []
  },
  {
   "cell_type": "code",
   "execution_count": null,
   "metadata": {},
   "outputs": [],
   "source": [
    " "
   ]
  }
 ],
 "metadata": {
  "kernelspec": {
   "display_name": "Python 3",
   "language": "python",
   "name": "python3"
  },
  "language_info": {
   "codemirror_mode": {
    "name": "ipython",
    "version": 3
   },
   "file_extension": ".py",
   "mimetype": "text/x-python",
   "name": "python",
   "nbconvert_exporter": "python",
   "pygments_lexer": "ipython3",
   "version": "3.8.6"
  }
 },
 "nbformat": 4,
 "nbformat_minor": 4
}
