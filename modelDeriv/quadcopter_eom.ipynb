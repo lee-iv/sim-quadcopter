{
 "cells": [
  {
   "cell_type": "markdown",
   "metadata": {},
   "source": [
    "Title"
   ]
  },
  {
   "cell_type": "code",
   "execution_count": 1,
   "metadata": {},
   "outputs": [],
   "source": [
    "from __future__ import division, print_function\n",
    "%matplotlib inline"
   ]
  },
  {
   "cell_type": "markdown",
   "metadata": {},
   "source": [
    "Setup Sympy"
   ]
  },
  {
   "cell_type": "code",
   "execution_count": 2,
   "metadata": {},
   "outputs": [],
   "source": [
    "import sympy as sym\n",
    "from sympy.physics.mechanics import *\n",
    "from IPython.display import display\n",
    "sym.init_printing(use_latex='mathjax')"
   ]
  },
  {
   "cell_type": "code",
   "execution_count": 3,
   "metadata": {},
   "outputs": [],
   "source": [
    "def calcBfromQ(qvec):\n",
    "    \"\"\"\n",
    "    dq/dt = 1/2 [B(q)] w\n",
    "    \"\"\"\n",
    "    w = qvec[0]\n",
    "    x = qvec[1]\n",
    "    y = qvec[2]\n",
    "    z = qvec[3]\n",
    "    \n",
    "    B = sym.zeros(4,3)\n",
    "    B[0,0] = -x\n",
    "    B[0,1] = -y\n",
    "    B[0,2] = -z\n",
    "    B[1,0] =  w\n",
    "    B[1,1] = -z\n",
    "    B[1,2] =  y\n",
    "    B[2,0] =  z\n",
    "    B[2,1] =  w\n",
    "    B[2,2] = -x\n",
    "    B[3,0] = -y\n",
    "    B[3,1] =  x\n",
    "    B[3,2] =  w\n",
    "\n",
    "    return B\n",
    "\n",
    "def skew(x):\n",
    "    \"\"\"\n",
    "    Returns skew symetric matic of x\n",
    "    where x is a vector of length 3\n",
    "    \"\"\"\n",
    "    xSkew = sym.zeros(3,3)\n",
    "    xSkew[0,1] = -x[2]\n",
    "    xSkew[0,2] =  x[1]\n",
    "    xSkew[1,0] =  x[2]\n",
    "    xSkew[1,2] = -x[0]\n",
    "    xSkew[2,0] = -x[1]\n",
    "    xSkew[2,1] =  x[0]\n",
    "    return xSkew    \n",
    "\n",
    "def build_inertia_tensor(Ivec):\n",
    "    Ixx,Iyy,Izz,Ixy,Ixz,Iyz = Ivec\n",
    "    \n",
    "    Imat = sym.zeros(3,3)\n",
    "    Imat[0,0] = Ixx\n",
    "    Imat[0,1] = Ixy\n",
    "    Imat[0,2] = Ixz\n",
    "    Imat[1,0] = Ixy\n",
    "    Imat[1,1] = Iyy\n",
    "    Imat[1,2] = Iyz\n",
    "    Imat[2,0] = Ixz\n",
    "    Imat[2,1] = Iyz\n",
    "    Imat[2,2] = Izz\n",
    "    \n",
    "    return Imat\n",
    "\n",
    "def quatConj(q):\n",
    "    q_out = sym.zeros(4,1)\n",
    "    q_out[0] = q[0]\n",
    "    q_out[1] = -q[1]\n",
    "    q_out[2] = -q[2]\n",
    "    q_out[3] = -q[3]\n",
    "    \n",
    "    return q_out\n",
    "\n",
    "def quatMult(a,b):\n",
    "    \n",
    "    w = b[0]*a[0]-b[1]*a[1]-b[2]*a[2]-b[3]*a[3]\n",
    "    x = b[1]*a[0]+b[0]*a[1]+b[3]*a[2]-b[2]*a[3]\n",
    "    y = b[2]*a[0]-b[3]*a[1]+b[0]*a[2]+b[1]*a[3]\n",
    "    z = b[3]*a[0]+b[2]*a[1]-b[1]*a[2]+b[0]*a[3]    \n",
    "    \n",
    "    q = sym.Matrix([w,x,y,z])\n",
    "    \n",
    "    return q\n",
    "\n",
    "def quatRot(q_toBfromA, v_expA):\n",
    "    \n",
    "    v_expA = sym.Matrix([0,v_expA])\n",
    "    \n",
    "    v_expB = quatMult( quatConj(q_toBfromA), quatMult(v_expA, q_toBfromA) ) \n",
    "    \n",
    "    v_out = sym.zeros(3,1)\n",
    "    v_out[0] = v_expB[1]\n",
    "    v_out[1] = v_expB[2]\n",
    "    v_out[2] = v_expB[3]\n",
    "    \n",
    "    return v_out\n",
    "    \n",
    "    "
   ]
  },
  {
   "cell_type": "code",
   "execution_count": 4,
   "metadata": {},
   "outputs": [],
   "source": [
    "# Define Variables\n",
    "x, y, z = sym.symbols('x, y, z') # Pos of B wrt NED exp in B Frame\n",
    "vx, vy, vz = sym.symbols('vx, vy, vz') # Velocity of B wrt NED exp in B frame\n",
    "qw, qx, qy, qz = sym.symbols('q_w, q_x, q_y, q_z')\n",
    "wx, wy, wz = sym.symbols('w_x, w_y, w_z')\n",
    "Ixx, Iyy, Izz, Ixy, Ixz, Iyz = sym.symbols('I_xx, I_yy, I_zz, I_xy, I_xz, I_yz')\n",
    "Mx, My, Mz = sym.symbols('M_x, M_y, M_z') # Body Frame moments\n",
    "Fx, Fy, Fz = sym.symbols('F_x, F_y, F_z') # Body Frame forces\n",
    "F1, F2, F3, F4 = sym.symbols('F1, F2, F3, F4') # Motor Forces\n",
    "M1, M2, M3, M4 = sym.symbols('M1, M2, M3, M4') # Motor torques\n",
    "wm1, wm2, wm3, wm4 = sym.symbols('w_m1, w_m2, w_m3, w_m4') # Motor speeds\n",
    "kF, kM = sym.symbols('k_F, k_M') # Motor force and moment coeffecients\n",
    "\n",
    "mass, grav, L = sym.symbols('m, g, L')\n",
    "\n",
    "\n",
    "# Setup Vectors\n",
    "rvec = sym.Matrix([x,y,z])       # R of B wrt L exp B\n",
    "qvec = sym.Matrix([qw,qx,qy,qz]) # attitude quaterion of B wrt L\n",
    "wvec = sym.Matrix([wx,wy,wz])    # AngVel of B wrt L exp B\n",
    "Fvec = sym.Matrix([Fx,Fy,Fz])    # Body Frame forces\n",
    "Mvec = sym.Matrix([Mx,My,Mz])    # Body Frame moments\n",
    "vvec = sym.Matrix([vx,vy,vz])    # Vel of B wrt L exp V\n",
    "\n",
    "# Build Inertia Tensor\n",
    "Ixy = 0\n",
    "Ixz = 0\n",
    "Iyz = 0\n",
    "Ivec = Ixx,Iyy,Izz,Ixy,Ixz,Iyz\n",
    "inertiaTensor = build_inertia_tensor(Ivec)\n",
    "inertiaTensorInv = inertiaTensor.inv()"
   ]
  },
  {
   "cell_type": "markdown",
   "metadata": {},
   "source": [
    "Solve dynamics equations for state space form"
   ]
  },
  {
   "cell_type": "code",
   "execution_count": 7,
   "metadata": {},
   "outputs": [
    {
     "name": "stdout",
     "output_type": "stream",
     "text": [
      "Sum of Forces\n"
     ]
    },
    {
     "data": {
      "text/latex": [
       "$\\displaystyle \\left[\\begin{matrix}0\\\\0\\\\- F_{1} - F_{2} - F_{3} - F_{4}\\end{matrix}\\right]$"
      ],
      "text/plain": [
       "⎡        0         ⎤\n",
       "⎢                  ⎥\n",
       "⎢        0         ⎥\n",
       "⎢                  ⎥\n",
       "⎣-F₁ - F₂ - F₃ - F₄⎦"
      ]
     },
     "metadata": {},
     "output_type": "display_data"
    },
    {
     "name": "stdout",
     "output_type": "stream",
     "text": [
      "Sum of Forces\n"
     ]
    },
    {
     "data": {
      "text/latex": [
       "$\\displaystyle \\left[\\begin{matrix}0\\\\0\\\\- F_{1} - F_{2} - F_{3} - F_{4}\\end{matrix}\\right]$"
      ],
      "text/plain": [
       "⎡        0         ⎤\n",
       "⎢                  ⎥\n",
       "⎢        0         ⎥\n",
       "⎢                  ⎥\n",
       "⎣-F₁ - F₂ - F₃ - F₄⎦"
      ]
     },
     "metadata": {},
     "output_type": "display_data"
    },
    {
     "name": "stdout",
     "output_type": "stream",
     "text": [
      "Matrix([\n",
      "[                 0],\n",
      "[                 0],\n",
      "[-F1 - F2 - F3 - F4]])\n",
      "Sum of Moments\n"
     ]
    },
    {
     "data": {
      "text/latex": [
       "$\\displaystyle \\left[\\begin{matrix}L \\left(- F_{2} + F_{4}\\right)\\\\L \\left(F_{1} - F_{3}\\right)\\\\- M_{1} + M_{2} - M_{3} + M_{4}\\end{matrix}\\right]$"
      ],
      "text/plain": [
       "⎡   L⋅(-F₂ + F₄)   ⎤\n",
       "⎢                  ⎥\n",
       "⎢   L⋅(F₁ - F₃)    ⎥\n",
       "⎢                  ⎥\n",
       "⎣-M₁ + M₂ - M₃ + M₄⎦"
      ]
     },
     "metadata": {},
     "output_type": "display_data"
    },
    {
     "name": "stdout",
     "output_type": "stream",
     "text": [
      "Sum of Moments\n"
     ]
    },
    {
     "data": {
      "text/latex": [
       "$\\displaystyle \\left[\\begin{matrix}L \\left(- F_{2} + F_{4}\\right)\\\\L \\left(F_{1} - F_{3}\\right)\\\\- M_{1} + M_{2} - M_{3} + M_{4}\\end{matrix}\\right]$"
      ],
      "text/plain": [
       "⎡   L⋅(-F₂ + F₄)   ⎤\n",
       "⎢                  ⎥\n",
       "⎢   L⋅(F₁ - F₃)    ⎥\n",
       "⎢                  ⎥\n",
       "⎣-M₁ + M₂ - M₃ + M₄⎦"
      ]
     },
     "metadata": {},
     "output_type": "display_data"
    },
    {
     "name": "stdout",
     "output_type": "stream",
     "text": [
      "Matrix([\n",
      "[      L*(-F2 + F4)],\n",
      "[       L*(F1 - F3)],\n",
      "[-M1 + M2 - M3 + M4]])\n",
      "vDot (Expressed in B frame)\n"
     ]
    },
    {
     "data": {
      "text/latex": [
       "$\\displaystyle \\left[\\begin{matrix}- 2 g q_{w} q_{y} + 2 g q_{x} q_{z} + vy w_{z} - vz w_{y}\\\\2 g q_{w} q_{x} + 2 g q_{y} q_{z} - vx w_{z} + vz w_{x}\\\\g q_{w}^{2} - g q_{x}^{2} - g q_{y}^{2} + g q_{z}^{2} + vx w_{y} - vy w_{x} + \\frac{- F_{1} - F_{2} - F_{3} - F_{4}}{m}\\end{matrix}\\right]$"
      ],
      "text/plain": [
       "⎡             -2⋅g⋅q_w⋅q_y + 2⋅g⋅qₓ⋅q_z + vy⋅w_z - vz⋅w_y              ⎤\n",
       "⎢                                                                      ⎥\n",
       "⎢              2⋅g⋅q_w⋅qₓ + 2⋅g⋅q_y⋅q_z - vx⋅w_z + vz⋅wₓ               ⎥\n",
       "⎢                                                                      ⎥\n",
       "⎢     2       2        2        2                    -F₁ - F₂ - F₃ - F₄⎥\n",
       "⎢g⋅q_w  - g⋅qₓ  - g⋅q_y  + g⋅q_z  + vx⋅w_y - vy⋅wₓ + ──────────────────⎥\n",
       "⎣                                                            m         ⎦"
      ]
     },
     "metadata": {},
     "output_type": "display_data"
    },
    {
     "name": "stdout",
     "output_type": "stream",
     "text": [
      "wDot (Expressed in B frame)\n"
     ]
    },
    {
     "data": {
      "text/latex": [
       "$\\displaystyle \\left[\\begin{matrix}\\frac{I_{yy} w_{y} w_{z} - I_{zz} w_{y} w_{z} + L \\left(- F_{2} + F_{4}\\right)}{I_{xx}}\\\\\\frac{- I_{xx} w_{x} w_{z} + I_{zz} w_{x} w_{z} + L \\left(F_{1} - F_{3}\\right)}{I_{yy}}\\\\\\frac{I_{xx} w_{x} w_{y} - I_{yy} w_{x} w_{y} - M_{1} + M_{2} - M_{3} + M_{4}}{I_{zz}}\\end{matrix}\\right]$"
      ],
      "text/plain": [
       "⎡ I_yy⋅w_y⋅w_z - I_zz⋅w_y⋅w_z + L⋅(-F₂ + F₄) ⎤\n",
       "⎢ ────────────────────────────────────────── ⎥\n",
       "⎢                    Iₓₓ                     ⎥\n",
       "⎢                                            ⎥\n",
       "⎢  -Iₓₓ⋅wₓ⋅w_z + I_zz⋅wₓ⋅w_z + L⋅(F₁ - F₃)   ⎥\n",
       "⎢  ───────────────────────────────────────   ⎥\n",
       "⎢                    I_yy                    ⎥\n",
       "⎢                                            ⎥\n",
       "⎢Iₓₓ⋅wₓ⋅w_y - I_yy⋅wₓ⋅w_y - M₁ + M₂ - M₃ + M₄⎥\n",
       "⎢────────────────────────────────────────────⎥\n",
       "⎣                    I_zz                    ⎦"
      ]
     },
     "metadata": {},
     "output_type": "display_data"
    },
    {
     "name": "stdout",
     "output_type": "stream",
     "text": [
      "qDot\n"
     ]
    },
    {
     "data": {
      "text/latex": [
       "$\\displaystyle \\left[\\begin{matrix}- 0.5 q_{x} w_{x} - 0.5 q_{y} w_{y} - 0.5 q_{z} w_{z}\\\\0.5 q_{w} w_{x} + 0.5 q_{y} w_{z} - 0.5 q_{z} w_{y}\\\\0.5 q_{w} w_{y} - 0.5 q_{x} w_{z} + 0.5 q_{z} w_{x}\\\\0.5 q_{w} w_{z} + 0.5 q_{x} w_{y} - 0.5 q_{y} w_{x}\\end{matrix}\\right]$"
      ],
      "text/plain": [
       "⎡-0.5⋅qₓ⋅wₓ - 0.5⋅q_y⋅w_y - 0.5⋅q_z⋅w_z⎤\n",
       "⎢                                      ⎥\n",
       "⎢0.5⋅q_w⋅wₓ + 0.5⋅q_y⋅w_z - 0.5⋅q_z⋅w_y⎥\n",
       "⎢                                      ⎥\n",
       "⎢0.5⋅q_w⋅w_y - 0.5⋅qₓ⋅w_z + 0.5⋅q_z⋅wₓ ⎥\n",
       "⎢                                      ⎥\n",
       "⎣0.5⋅q_w⋅w_z + 0.5⋅qₓ⋅w_y - 0.5⋅q_y⋅wₓ ⎦"
      ]
     },
     "metadata": {},
     "output_type": "display_data"
    }
   ],
   "source": [
    "useMotorFM = True\n",
    "\n",
    "# Motor Thrust and Torque\n",
    "motor1_F = kF*wm1**2\n",
    "motor2_F = kF*wm2**2\n",
    "motor3_F = kF*wm3**2\n",
    "motor4_F = kF*wm4**2\n",
    "motor1_M = kM*wm1**2\n",
    "motor2_M = kM*wm2**2\n",
    "motor3_M = kM*wm3**2\n",
    "motor4_M = kM*wm4**2\n",
    "\n",
    "wmvec = sym.Matrix([wm1, wm2, wm3, wm4])\n",
    "wmDot = sym.Matrix([0,0,0,0])\n",
    "\n",
    "# Sub sum of body forces\n",
    "print('Sum of Forces')\n",
    "display(Fvec)\n",
    "if useMotorFM is True:\n",
    "    Fvec = Fvec.subs(Fx, 0 )\n",
    "    Fvec = Fvec.subs(Fy, 0 )\n",
    "    Fvec = Fvec.subs(Fz, -(F1+F2+F3+F4) )\n",
    "    print('Sum of Forces')\n",
    "    display(Fvec)\n",
    "    mprint(Fvec)\n",
    "\n",
    "# Sub sum of body moments\n",
    "print('Sum of Moments')\n",
    "display(Mvec)\n",
    "if useMotorFM is True:\n",
    "    Mvec = Mvec.subs(Mx, L*(F4-F2) )\n",
    "    Mvec = Mvec.subs(My, L*(F1-F3) )\n",
    "    Mvec = Mvec.subs(Mz, M2+M4-M1-M3 )\n",
    "    print('Sum of Moments')\n",
    "    display(Mvec)\n",
    "    mprint(Mvec)\n",
    "\n",
    "#Sum of Forces solved for linear accel in body frame\n",
    "gravvec = sym.Matrix([0,0,grav])\n",
    "vDot = 1/mass*Fvec + quatRot(qvec, gravvec) - skew(wvec)*vvec\n",
    "print('vDot (Expressed in B frame)')\n",
    "display(vDot)\n",
    "\n",
    "# Sum of Moments solved for angular accel in body frame\n",
    "wDot = inertiaTensorInv*(-skew(wvec)*inertiaTensor*wvec + Mvec)\n",
    "print('wDot (Expressed in B frame)')\n",
    "display(wDot)\n",
    "\n",
    "# Quaternion rotational kinematics equation (quaterion to B from L)\n",
    "B = calcBfromQ(qvec)\n",
    "qDot = 0.5*B*wvec\n",
    "print('qDot')\n",
    "display(qDot)"
   ]
  },
  {
   "cell_type": "code",
   "execution_count": 6,
   "metadata": {},
   "outputs": [
    {
     "name": "stdout",
     "output_type": "stream",
     "text": [
      "State Vector\n"
     ]
    },
    {
     "data": {
      "text/latex": [
       "$\\displaystyle \\left[\\begin{matrix}x\\\\y\\\\z\\\\q_{w}\\\\q_{x}\\\\q_{y}\\\\q_{z}\\\\vx\\\\vy\\\\vz\\\\w_{x}\\\\w_{y}\\\\w_{z}\\\\w_{m1}\\\\w_{m2}\\\\w_{m3}\\\\w_{m4}\\end{matrix}\\right]$"
      ],
      "text/plain": [
       "⎡ x ⎤\n",
       "⎢   ⎥\n",
       "⎢ y ⎥\n",
       "⎢   ⎥\n",
       "⎢ z ⎥\n",
       "⎢   ⎥\n",
       "⎢q_w⎥\n",
       "⎢   ⎥\n",
       "⎢qₓ ⎥\n",
       "⎢   ⎥\n",
       "⎢q_y⎥\n",
       "⎢   ⎥\n",
       "⎢q_z⎥\n",
       "⎢   ⎥\n",
       "⎢vx ⎥\n",
       "⎢   ⎥\n",
       "⎢vy ⎥\n",
       "⎢   ⎥\n",
       "⎢vz ⎥\n",
       "⎢   ⎥\n",
       "⎢wₓ ⎥\n",
       "⎢   ⎥\n",
       "⎢w_y⎥\n",
       "⎢   ⎥\n",
       "⎢w_z⎥\n",
       "⎢   ⎥\n",
       "⎢wₘ₁⎥\n",
       "⎢   ⎥\n",
       "⎢wₘ₂⎥\n",
       "⎢   ⎥\n",
       "⎢wₘ₃⎥\n",
       "⎢   ⎥\n",
       "⎣wₘ₄⎦"
      ]
     },
     "metadata": {},
     "output_type": "display_data"
    },
    {
     "name": "stdout",
     "output_type": "stream",
     "text": [
      "Matrix([\n",
      "[   x],\n",
      "[   y],\n",
      "[   z],\n",
      "[ q_w],\n",
      "[ q_x],\n",
      "[ q_y],\n",
      "[ q_z],\n",
      "[  vx],\n",
      "[  vy],\n",
      "[  vz],\n",
      "[ w_x],\n",
      "[ w_y],\n",
      "[ w_z],\n",
      "[w_m1],\n",
      "[w_m2],\n",
      "[w_m3],\n",
      "[w_m4]])\n",
      "\n",
      "State transition matrix\n"
     ]
    },
    {
     "data": {
      "text/latex": [
       "$\\displaystyle \\left[\\begin{matrix}vx\\\\vy\\\\vz\\\\- 0.5 q_{x} w_{x} - 0.5 q_{y} w_{y} - 0.5 q_{z} w_{z}\\\\0.5 q_{w} w_{x} + 0.5 q_{y} w_{z} - 0.5 q_{z} w_{y}\\\\0.5 q_{w} w_{y} - 0.5 q_{x} w_{z} + 0.5 q_{z} w_{x}\\\\0.5 q_{w} w_{z} + 0.5 q_{x} w_{y} - 0.5 q_{y} w_{x}\\\\- 2 g q_{w} q_{y} + 2 g q_{x} q_{z} + vy w_{z} - vz w_{y}\\\\2 g q_{w} q_{x} + 2 g q_{y} q_{z} - vx w_{z} + vz w_{x}\\\\g q_{w}^{2} - g q_{x}^{2} - g q_{y}^{2} + g q_{z}^{2} + vx w_{y} - vy w_{x} + \\frac{- F_{1} - F_{2} - F_{3} - F_{4}}{m}\\\\\\frac{I_{yy} w_{y} w_{z} - I_{zz} w_{y} w_{z} + L \\left(- F_{2} + F_{4}\\right)}{I_{xx}}\\\\\\frac{- I_{xx} w_{x} w_{z} + I_{zz} w_{x} w_{z} + L \\left(F_{1} - F_{3}\\right)}{I_{yy}}\\\\\\frac{I_{xx} w_{x} w_{y} - I_{yy} w_{x} w_{y} - M_{1} + M_{2} - M_{3} + M_{4}}{I_{zz}}\\\\0\\\\0\\\\0\\\\0\\end{matrix}\\right]$"
      ],
      "text/plain": [
       "⎡                                  vx                                  ⎤\n",
       "⎢                                                                      ⎥\n",
       "⎢                                  vy                                  ⎥\n",
       "⎢                                                                      ⎥\n",
       "⎢                                  vz                                  ⎥\n",
       "⎢                                                                      ⎥\n",
       "⎢                -0.5⋅qₓ⋅wₓ - 0.5⋅q_y⋅w_y - 0.5⋅q_z⋅w_z                ⎥\n",
       "⎢                                                                      ⎥\n",
       "⎢                0.5⋅q_w⋅wₓ + 0.5⋅q_y⋅w_z - 0.5⋅q_z⋅w_y                ⎥\n",
       "⎢                                                                      ⎥\n",
       "⎢                0.5⋅q_w⋅w_y - 0.5⋅qₓ⋅w_z + 0.5⋅q_z⋅wₓ                 ⎥\n",
       "⎢                                                                      ⎥\n",
       "⎢                0.5⋅q_w⋅w_z + 0.5⋅qₓ⋅w_y - 0.5⋅q_y⋅wₓ                 ⎥\n",
       "⎢                                                                      ⎥\n",
       "⎢             -2⋅g⋅q_w⋅q_y + 2⋅g⋅qₓ⋅q_z + vy⋅w_z - vz⋅w_y              ⎥\n",
       "⎢                                                                      ⎥\n",
       "⎢              2⋅g⋅q_w⋅qₓ + 2⋅g⋅q_y⋅q_z - vx⋅w_z + vz⋅wₓ               ⎥\n",
       "⎢                                                                      ⎥\n",
       "⎢     2       2        2        2                    -F₁ - F₂ - F₃ - F₄⎥\n",
       "⎢g⋅q_w  - g⋅qₓ  - g⋅q_y  + g⋅q_z  + vx⋅w_y - vy⋅wₓ + ──────────────────⎥\n",
       "⎢                                                            m         ⎥\n",
       "⎢                                                                      ⎥\n",
       "⎢              I_yy⋅w_y⋅w_z - I_zz⋅w_y⋅w_z + L⋅(-F₂ + F₄)              ⎥\n",
       "⎢              ──────────────────────────────────────────              ⎥\n",
       "⎢                                 Iₓₓ                                  ⎥\n",
       "⎢                                                                      ⎥\n",
       "⎢               -Iₓₓ⋅wₓ⋅w_z + I_zz⋅wₓ⋅w_z + L⋅(F₁ - F₃)                ⎥\n",
       "⎢               ───────────────────────────────────────                ⎥\n",
       "⎢                                 I_yy                                 ⎥\n",
       "⎢                                                                      ⎥\n",
       "⎢             Iₓₓ⋅wₓ⋅w_y - I_yy⋅wₓ⋅w_y - M₁ + M₂ - M₃ + M₄             ⎥\n",
       "⎢             ────────────────────────────────────────────             ⎥\n",
       "⎢                                 I_zz                                 ⎥\n",
       "⎢                                                                      ⎥\n",
       "⎢                                  0                                   ⎥\n",
       "⎢                                                                      ⎥\n",
       "⎢                                  0                                   ⎥\n",
       "⎢                                                                      ⎥\n",
       "⎢                                  0                                   ⎥\n",
       "⎢                                                                      ⎥\n",
       "⎣                                  0                                   ⎦"
      ]
     },
     "metadata": {},
     "output_type": "display_data"
    },
    {
     "name": "stdout",
     "output_type": "stream",
     "text": [
      "Matrix([\n",
      "[                                                                                  vx],\n",
      "[                                                                                  vy],\n",
      "[                                                                                  vz],\n",
      "[                                            -0.5*q_x*w_x - 0.5*q_y*w_y - 0.5*q_z*w_z],\n",
      "[                                             0.5*q_w*w_x + 0.5*q_y*w_z - 0.5*q_z*w_y],\n",
      "[                                             0.5*q_w*w_y - 0.5*q_x*w_z + 0.5*q_z*w_x],\n",
      "[                                             0.5*q_w*w_z + 0.5*q_x*w_y - 0.5*q_y*w_x],\n",
      "[                                        -2*g*q_w*q_y + 2*g*q_x*q_z + vy*w_z - vz*w_y],\n",
      "[                                         2*g*q_w*q_x + 2*g*q_y*q_z - vx*w_z + vz*w_x],\n",
      "[g*q_w**2 - g*q_x**2 - g*q_y**2 + g*q_z**2 + vx*w_y - vy*w_x + (-F1 - F2 - F3 - F4)/m],\n",
      "[                                   (I_yy*w_y*w_z - I_zz*w_y*w_z + L*(-F2 + F4))/I_xx],\n",
      "[                                   (-I_xx*w_x*w_z + I_zz*w_x*w_z + L*(F1 - F3))/I_yy],\n",
      "[                              (I_xx*w_x*w_y - I_yy*w_x*w_y - M1 + M2 - M3 + M4)/I_zz],\n",
      "[                                                                                   0],\n",
      "[                                                                                   0],\n",
      "[                                                                                   0],\n",
      "[                                                                                   0]])\n"
     ]
    }
   ],
   "source": [
    "# State vector\n",
    "state = sym.Matrix([rvec,qvec,vvec,wvec,wmvec])\n",
    "print('State Vector')\n",
    "display(state)\n",
    "mprint(state)\n",
    "\n",
    "# Matrix\n",
    "A = sym.Matrix([vvec,qDot,vDot,wDot,wmDot])\n",
    "print('\\nState transition matrix')\n",
    "display(A)\n",
    "mprint(A)"
   ]
  },
  {
   "cell_type": "markdown",
   "metadata": {},
   "source": [
    "Additional parameters"
   ]
  },
  {
   "cell_type": "code",
   "execution_count": null,
   "metadata": {},
   "outputs": [],
   "source": []
  },
  {
   "cell_type": "code",
   "execution_count": null,
   "metadata": {},
   "outputs": [],
   "source": []
  },
  {
   "cell_type": "code",
   "execution_count": null,
   "metadata": {},
   "outputs": [],
   "source": []
  }
 ],
 "metadata": {
  "kernelspec": {
   "display_name": "Python 3",
   "language": "python",
   "name": "python3"
  },
  "language_info": {
   "codemirror_mode": {
    "name": "ipython",
    "version": 3
   },
   "file_extension": ".py",
   "mimetype": "text/x-python",
   "name": "python",
   "nbconvert_exporter": "python",
   "pygments_lexer": "ipython3",
   "version": "3.7.1"
  }
 },
 "nbformat": 4,
 "nbformat_minor": 4
}
