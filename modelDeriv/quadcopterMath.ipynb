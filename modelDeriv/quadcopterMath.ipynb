{
 "cells": [
  {
   "cell_type": "code",
   "execution_count": 1,
   "metadata": {},
   "outputs": [],
   "source": [
    "from __future__ import division, print_function\n",
    "%matplotlib inline"
   ]
  },
  {
   "cell_type": "code",
   "execution_count": 2,
   "metadata": {},
   "outputs": [],
   "source": [
    "import sympy\n",
    "from sympy import Matrix, eye, symbols, sin, cos, zeros\n",
    "from sympy.physics.mechanics import *\n",
    "from IPython.display import display\n",
    "sympy.init_printing(use_latex='mathjax')\n"
   ]
  },
  {
   "cell_type": "markdown",
   "metadata": {},
   "source": [
    "# Quaternion Math Functions"
   ]
  },
  {
   "cell_type": "code",
   "execution_count": 3,
   "metadata": {},
   "outputs": [],
   "source": [
    "def expq(n):\n",
    "    n *= 0.5\n",
    "    nNorm = n.norm()\n",
    "    qn = Matrix([cos(nNorm),n/nNorm*sin(nNorm)])\n",
    "    return qn\n",
    "\n",
    "def quat2dcm(q):\n",
    "    \"\"\"\n",
    "    Convert quaternion to DCM\n",
    "    \"\"\"\n",
    "    \n",
    "    # Extract components\n",
    "    w = q[0]\n",
    "    x = q[1]\n",
    "    y = q[2]\n",
    "    z = q[3]\n",
    "    \n",
    "    # Reduce repeated calculations\n",
    "    ww = w*w\n",
    "    xx = x*x\n",
    "    yy = y*y\n",
    "    zz = z*z  \n",
    "    wx = w*x\n",
    "    wy = w*y\n",
    "    wz = w*z\n",
    "    xy = x*y\n",
    "    xz = x*z\n",
    "    yz = y*z\n",
    "    \n",
    "    # Build Direction Cosine Matrix (DCM)   \n",
    "    dcm = Matrix([\n",
    "        [ww + xx - yy - zz,       2*(xy - wz),       2*(xz + wy)],\n",
    "        [      2*(xy + wz), ww - xx + yy - zz,       2*(yz - wx)],\n",
    "        [      2*(xz - wy),       2*(yz + wx), ww - xx - yy + zz]\n",
    "    ])\n",
    "    return dcm\n",
    "\n",
    "def skew3(v):\n",
    "    vx,vy,vz = v\n",
    "    out = Matrix([[  0, -vz,   vy],\n",
    "                  [ vz,   0,  -vx],\n",
    "                  [-vy,  vx,    0]])\n",
    "    return out\n",
    "\n",
    "def skew4Left(v):\n",
    "    if len(v)==3:\n",
    "        v = Matrix.vstack(zeros(1),v)\n",
    "    w,x,y,z = v\n",
    "    out = Matrix([\n",
    "            [w, -x, -y, -z],\n",
    "            [x,  w, -z,  y],\n",
    "            [y,  z,  w, -x],\n",
    "            [z, -y,  x,  w],\n",
    "        ])        \n",
    "    return out\n",
    "\n",
    "def skew4Right(v):\n",
    "    if len(v)==3:\n",
    "        v = Matrix.vstack(zeros(1),v)\n",
    "    w,x,y,z = v\n",
    "    out = Matrix([\n",
    "            [w, -x, -y, -z],\n",
    "            [x,  w,  z, -y],\n",
    "            [y, -z,  w,  x],\n",
    "            [z,  y, -x,  w],\n",
    "        ])      \n",
    "    return out\n",
    "\n",
    "\n",
    "def quatConj(q):\n",
    "    q_out = Matrix(q[:])\n",
    "    q_out = q_out.T*sympy.diag(1,-1,-1,-1)\n",
    "    q_out = q_out.T\n",
    "\n",
    "    return q_out\n",
    "\n",
    "def qRot(q,v):\n",
    "    qPrime = quatConj(q)\n",
    "    v = Matrix.vstack(zeros(1),v)\n",
    "    vout = skew4Left(q)*skew4Right(qPrime)*v\n",
    "    return Matrix(vout[1:])"
   ]
  },
  {
   "cell_type": "markdown",
   "metadata": {},
   "source": [
    "# Inertia Tensor"
   ]
  },
  {
   "cell_type": "code",
   "execution_count": 4,
   "metadata": {},
   "outputs": [],
   "source": [
    "def build_inertia_tensor(Ivec):\n",
    "    Ixx,Iyy,Izz,Ixy,Ixz,Iyz = Ivec\n",
    "    \n",
    "    Imat = zeros(3,3)\n",
    "    Imat[0,0] = Ixx\n",
    "    Imat[0,1] = Ixy\n",
    "    Imat[0,2] = Ixz\n",
    "    Imat[1,0] = Ixy\n",
    "    Imat[1,1] = Iyy\n",
    "    Imat[1,2] = Iyz\n",
    "    Imat[2,0] = Ixz\n",
    "    Imat[2,1] = Iyz\n",
    "    Imat[2,2] = Izz\n",
    "    \n",
    "    return Imat"
   ]
  },
  {
   "cell_type": "markdown",
   "metadata": {},
   "source": [
    "# 6DOF EOM using general body frame Force and Moment"
   ]
  },
  {
   "cell_type": "markdown",
   "metadata": {},
   "source": [
    "Define Sympy Symbols"
   ]
  },
  {
   "cell_type": "code",
   "execution_count": 5,
   "metadata": {},
   "outputs": [],
   "source": [
    "rx,ry,rz = symbols('r_x r_y r_z')\n",
    "vx,vy,vz = symbols('v_x v_y v_z')\n",
    "qw, qx, qy, qz = symbols('q_w, q_x, q_y, q_z')\n",
    "wx, wy, wz = symbols('w_x, w_y, w_z')\n",
    "Ixx, Iyy, Izz, Ixy, Ixz, Iyz = symbols('I_xx, I_yy, I_zz, I_xy, I_xz, I_yz')\n",
    "Mx, My, Mz = symbols('M_x, M_y, M_z') \n",
    "Fbx, Fby, Fbz = symbols('F_x, F_y, F_z') \n",
    "m,g = symbols('m g')\n",
    "L = symbols('L') # Quadcopter arm length"
   ]
  },
  {
   "cell_type": "markdown",
   "metadata": {},
   "source": [
    "Setup Vectors"
   ]
  },
  {
   "cell_type": "code",
   "execution_count": 6,
   "metadata": {},
   "outputs": [],
   "source": [
    "r_BwrtLexpL = Matrix([rx,ry,rz])\n",
    "v_BwrtLexpL = Matrix([vx,vy,vz])\n",
    "q_toLfromB  = Matrix([qw,qx,qy,qz])\n",
    "wb          = Matrix([wx,wy,wz])\n",
    "Fb          = Matrix([Fbx,Fby,Fbz])\n",
    "Mb          = Matrix([Mx,My,Mz])"
   ]
  },
  {
   "cell_type": "markdown",
   "metadata": {},
   "source": [
    "## Build Inertia Tensor"
   ]
  },
  {
   "cell_type": "code",
   "execution_count": 7,
   "metadata": {},
   "outputs": [
    {
     "data": {
      "text/latex": [
       "$\\displaystyle \\left[\\begin{matrix}I_{xx} & 0 & 0\\\\0 & I_{yy} & 0\\\\0 & 0 & I_{zz}\\end{matrix}\\right]$"
      ],
      "text/plain": [
       "⎡Iₓₓ   0     0  ⎤\n",
       "⎢               ⎥\n",
       "⎢ 0   I_yy   0  ⎥\n",
       "⎢               ⎥\n",
       "⎣ 0    0    I_zz⎦"
      ]
     },
     "metadata": {},
     "output_type": "display_data"
    },
    {
     "data": {
      "text/latex": [
       "$\\displaystyle \\left[\\begin{matrix}\\frac{1}{I_{xx}} & 0 & 0\\\\0 & \\frac{1}{I_{yy}} & 0\\\\0 & 0 & \\frac{1}{I_{zz}}\\end{matrix}\\right]$"
      ],
      "text/plain": [
       "⎡ 1             ⎤\n",
       "⎢───   0     0  ⎥\n",
       "⎢Iₓₓ            ⎥\n",
       "⎢               ⎥\n",
       "⎢      1        ⎥\n",
       "⎢ 0   ────   0  ⎥\n",
       "⎢     I_yy      ⎥\n",
       "⎢               ⎥\n",
       "⎢            1  ⎥\n",
       "⎢ 0    0    ────⎥\n",
       "⎣           I_zz⎦"
      ]
     },
     "metadata": {},
     "output_type": "display_data"
    }
   ],
   "source": [
    "Ixy = 0\n",
    "Ixz = 0\n",
    "Iyz = 0\n",
    "Ivec = Ixx,Iyy,Izz,Ixy,Ixz,Iyz\n",
    "inertiaTensor = build_inertia_tensor(Ivec)\n",
    "display(inertiaTensor)\n",
    "display(inertiaTensor.inv())"
   ]
  },
  {
   "cell_type": "markdown",
   "metadata": {},
   "source": [
    "Gravity Vector in local frame (NED)"
   ]
  },
  {
   "cell_type": "code",
   "execution_count": 8,
   "metadata": {},
   "outputs": [],
   "source": [
    "g_expL = Matrix([0,0,g])"
   ]
  },
  {
   "cell_type": "markdown",
   "metadata": {},
   "source": [
    "## Body Forces & Moments"
   ]
  },
  {
   "cell_type": "code",
   "execution_count": 9,
   "metadata": {},
   "outputs": [
    {
     "name": "stdout",
     "output_type": "stream",
     "text": [
      "Fb\n"
     ]
    },
    {
     "data": {
      "text/latex": [
       "$\\displaystyle \\left[\\begin{matrix}0\\\\0\\\\- k_{F} w_{m1}^{2} - k_{F} w_{m2}^{2} - k_{F} w_{m3}^{2} - k_{F} w_{m4}^{2}\\end{matrix}\\right]$"
      ],
      "text/plain": [
       "⎡                     0                     ⎤\n",
       "⎢                                           ⎥\n",
       "⎢                     0                     ⎥\n",
       "⎢                                           ⎥\n",
       "⎢         2          2          2          2⎥\n",
       "⎣- k_F⋅wₘ₁  - k_F⋅wₘ₂  - k_F⋅wₘ₃  - k_F⋅wₘ₄ ⎦"
      ]
     },
     "metadata": {},
     "output_type": "display_data"
    },
    {
     "name": "stdout",
     "output_type": "stream",
     "text": [
      "Mb\n"
     ]
    },
    {
     "data": {
      "text/latex": [
       "$\\displaystyle \\left[\\begin{matrix}L \\left(- k_{F} w_{m2}^{2} + k_{F} w_{m4}^{2}\\right)\\\\L \\left(k_{F} w_{m1}^{2} - k_{F} w_{m3}^{2}\\right)\\\\- k_{M} w_{m1}^{2} + k_{M} w_{m2}^{2} - k_{M} w_{m3}^{2} + k_{M} w_{m4}^{2}\\end{matrix}\\right]$"
      ],
      "text/plain": [
       "⎡           ⎛         2          2⎞         ⎤\n",
       "⎢         L⋅⎝- k_F⋅wₘ₂  + k_F⋅wₘ₄ ⎠         ⎥\n",
       "⎢                                           ⎥\n",
       "⎢            ⎛       2          2⎞          ⎥\n",
       "⎢          L⋅⎝k_F⋅wₘ₁  - k_F⋅wₘ₃ ⎠          ⎥\n",
       "⎢                                           ⎥\n",
       "⎢         2          2          2          2⎥\n",
       "⎣- k_M⋅wₘ₁  + k_M⋅wₘ₂  - k_M⋅wₘ₃  + k_M⋅wₘ₄ ⎦"
      ]
     },
     "metadata": {},
     "output_type": "display_data"
    }
   ],
   "source": [
    "# Motor speeds\n",
    "wm1, wm2, wm3, wm4 = symbols('w_m1, w_m2, w_m3, w_m4')\n",
    "# Motor force and moment coefficients\n",
    "kF, kM = symbols('k_F, k_M')\n",
    "\n",
    "# Motor Thrust and Torque\n",
    "Fm1 = kF*wm1**2\n",
    "Fm2 = kF*wm2**2\n",
    "Fm3 = kF*wm3**2\n",
    "Fm4 = kF*wm4**2\n",
    "Mm1 = kM*wm1**2\n",
    "Mm2 = kM*wm2**2\n",
    "Mm3 = kM*wm3**2\n",
    "Mm4 = kM*wm4**2\n",
    "\n",
    "# Calc Body Forces due to motors\n",
    "Fb[0] = 0\n",
    "Fb[1] = 0\n",
    "Fb[2] = -(Fm1+Fm2+Fm3+Fm4)\n",
    "\n",
    "# Calc Body Moments dut to motors\n",
    "Mb[0] = L*(Fm4-Fm2)\n",
    "Mb[1] = L*(Fm1-Fm3)\n",
    "Mb[2] = Mm2 + Mm4 - Mm1 -Mm3\n",
    "\n",
    "print('Fb')\n",
    "display(Fb)\n",
    "print('Mb')\n",
    "display(Mb)\n"
   ]
  },
  {
   "cell_type": "markdown",
   "metadata": {},
   "source": [
    "## Sum of forces"
   ]
  },
  {
   "cell_type": "code",
   "execution_count": 10,
   "metadata": {},
   "outputs": [
    {
     "name": "stdout",
     "output_type": "stream",
     "text": [
      "a_BwrtLexpL\n"
     ]
    },
    {
     "data": {
      "text/latex": [
       "$\\displaystyle \\left[\\begin{matrix}\\frac{\\left(2 q_{w} q_{y} + 2 q_{x} q_{z}\\right) \\left(- k_{F} w_{m1}^{2} - k_{F} w_{m2}^{2} - k_{F} w_{m3}^{2} - k_{F} w_{m4}^{2}\\right)}{m}\\\\\\frac{\\left(- 2 q_{w} q_{x} + 2 q_{y} q_{z}\\right) \\left(- k_{F} w_{m1}^{2} - k_{F} w_{m2}^{2} - k_{F} w_{m3}^{2} - k_{F} w_{m4}^{2}\\right)}{m}\\\\g + \\frac{\\left(q_{w}^{2} - q_{x}^{2} - q_{y}^{2} + q_{z}^{2}\\right) \\left(- k_{F} w_{m1}^{2} - k_{F} w_{m2}^{2} - k_{F} w_{m3}^{2} - k_{F} w_{m4}^{2}\\right)}{m}\\end{matrix}\\right]$"
      ],
      "text/plain": [
       "⎡                           ⎛         2          2          2          2⎞    ⎤\n",
       "⎢    (2⋅q_w⋅q_y + 2⋅qₓ⋅q_z)⋅⎝- k_F⋅wₘ₁  - k_F⋅wₘ₂  - k_F⋅wₘ₃  - k_F⋅wₘ₄ ⎠    ⎥\n",
       "⎢    ────────────────────────────────────────────────────────────────────    ⎥\n",
       "⎢                                     m                                      ⎥\n",
       "⎢                                                                            ⎥\n",
       "⎢                           ⎛         2          2          2          2⎞    ⎥\n",
       "⎢   (-2⋅q_w⋅qₓ + 2⋅q_y⋅q_z)⋅⎝- k_F⋅wₘ₁  - k_F⋅wₘ₂  - k_F⋅wₘ₃  - k_F⋅wₘ₄ ⎠    ⎥\n",
       "⎢   ─────────────────────────────────────────────────────────────────────    ⎥\n",
       "⎢                                     m                                      ⎥\n",
       "⎢                                                                            ⎥\n",
       "⎢    ⎛   2     2      2      2⎞ ⎛         2          2          2          2⎞⎥\n",
       "⎢    ⎝q_w  - qₓ  - q_y  + q_z ⎠⋅⎝- k_F⋅wₘ₁  - k_F⋅wₘ₂  - k_F⋅wₘ₃  - k_F⋅wₘ₄ ⎠⎥\n",
       "⎢g + ────────────────────────────────────────────────────────────────────────⎥\n",
       "⎣                                       m                                    ⎦"
      ]
     },
     "metadata": {},
     "output_type": "display_data"
    }
   ],
   "source": [
    "a_BwrtLexpL = 1/m*qRot(q_toLfromB,Fb) + g_expL\n",
    "\n",
    "print('a_BwrtLexpL')\n",
    "display(a_BwrtLexpL)"
   ]
  },
  {
   "cell_type": "markdown",
   "metadata": {},
   "source": [
    "## Sum of moments"
   ]
  },
  {
   "cell_type": "code",
   "execution_count": 11,
   "metadata": {},
   "outputs": [
    {
     "name": "stdout",
     "output_type": "stream",
     "text": [
      "wbDot\n"
     ]
    },
    {
     "data": {
      "text/latex": [
       "$\\displaystyle \\left[\\begin{matrix}\\frac{I_{yy} w_{y} w_{z} - I_{zz} w_{y} w_{z} + L \\left(- k_{F} w_{m2}^{2} + k_{F} w_{m4}^{2}\\right)}{I_{xx}}\\\\\\frac{- I_{xx} w_{x} w_{z} + I_{zz} w_{x} w_{z} + L \\left(k_{F} w_{m1}^{2} - k_{F} w_{m3}^{2}\\right)}{I_{yy}}\\\\\\frac{I_{xx} w_{x} w_{y} - I_{yy} w_{x} w_{y} - k_{M} w_{m1}^{2} + k_{M} w_{m2}^{2} - k_{M} w_{m3}^{2} + k_{M} w_{m4}^{2}}{I_{zz}}\\end{matrix}\\right]$"
      ],
      "text/plain": [
       "⎡                                      ⎛         2          2⎞       ⎤\n",
       "⎢      I_yy⋅w_y⋅w_z - I_zz⋅w_y⋅w_z + L⋅⎝- k_F⋅wₘ₂  + k_F⋅wₘ₄ ⎠       ⎥\n",
       "⎢      ───────────────────────────────────────────────────────       ⎥\n",
       "⎢                                Iₓₓ                                 ⎥\n",
       "⎢                                                                    ⎥\n",
       "⎢                                      ⎛       2          2⎞         ⎥\n",
       "⎢        -Iₓₓ⋅wₓ⋅w_z + I_zz⋅wₓ⋅w_z + L⋅⎝k_F⋅wₘ₁  - k_F⋅wₘ₃ ⎠         ⎥\n",
       "⎢        ───────────────────────────────────────────────────         ⎥\n",
       "⎢                                I_yy                                ⎥\n",
       "⎢                                                                    ⎥\n",
       "⎢                                  2          2          2          2⎥\n",
       "⎢Iₓₓ⋅wₓ⋅w_y - I_yy⋅wₓ⋅w_y - k_M⋅wₘ₁  + k_M⋅wₘ₂  - k_M⋅wₘ₃  + k_M⋅wₘ₄ ⎥\n",
       "⎢────────────────────────────────────────────────────────────────────⎥\n",
       "⎣                                I_zz                                ⎦"
      ]
     },
     "metadata": {},
     "output_type": "display_data"
    }
   ],
   "source": [
    "wbDot = inertiaTensor.inv() * (-skew3(wb)*inertiaTensor*wb + Mb)\n",
    "\n",
    "print('wbDot')\n",
    "display(wbDot)"
   ]
  },
  {
   "cell_type": "markdown",
   "metadata": {},
   "source": [
    "## Quaternion Kinematic Equation"
   ]
  },
  {
   "cell_type": "code",
   "execution_count": 12,
   "metadata": {},
   "outputs": [
    {
     "name": "stdout",
     "output_type": "stream",
     "text": [
      "qDot\n"
     ]
    },
    {
     "data": {
      "text/latex": [
       "$\\displaystyle \\left[\\begin{matrix}- 0.5 q_{x} w_{x} - 0.5 q_{y} w_{y} - 0.5 q_{z} w_{z}\\\\0.5 q_{w} w_{x} + 0.5 q_{y} w_{z} - 0.5 q_{z} w_{y}\\\\0.5 q_{w} w_{y} - 0.5 q_{x} w_{z} + 0.5 q_{z} w_{x}\\\\0.5 q_{w} w_{z} + 0.5 q_{x} w_{y} - 0.5 q_{y} w_{x}\\end{matrix}\\right]$"
      ],
      "text/plain": [
       "⎡-0.5⋅qₓ⋅wₓ - 0.5⋅q_y⋅w_y - 0.5⋅q_z⋅w_z⎤\n",
       "⎢                                      ⎥\n",
       "⎢0.5⋅q_w⋅wₓ + 0.5⋅q_y⋅w_z - 0.5⋅q_z⋅w_y⎥\n",
       "⎢                                      ⎥\n",
       "⎢0.5⋅q_w⋅w_y - 0.5⋅qₓ⋅w_z + 0.5⋅q_z⋅wₓ ⎥\n",
       "⎢                                      ⎥\n",
       "⎣0.5⋅q_w⋅w_z + 0.5⋅qₓ⋅w_y - 0.5⋅q_y⋅wₓ ⎦"
      ]
     },
     "metadata": {},
     "output_type": "display_data"
    }
   ],
   "source": [
    "qDot = 0.5*skew4Left(q_toLfromB) * Matrix.vstack(zeros(1),wb)\n",
    "# 0.5*skew4Left(q_toLfromB)[:,1:] * wb\n",
    "\n",
    "#display(skew4Left(q_toLfromB))\n",
    "#display(skew4Left(q_toLfromB)[:,1:])\n",
    "#display(0.5*skew4Left(q_toLfromB)[:,1:] * wb)\n",
    "\n",
    "print('qDot')\n",
    "display(qDot)"
   ]
  },
  {
   "cell_type": "markdown",
   "metadata": {},
   "source": [
    "## State and dstate vectors"
   ]
  },
  {
   "cell_type": "code",
   "execution_count": 13,
   "metadata": {},
   "outputs": [
    {
     "data": {
      "text/latex": [
       "$\\displaystyle \\left[\\begin{array}{ccccccccccccc}r_{x} & r_{y} & r_{z} & v_{x} & v_{y} & v_{z} & q_{w} & q_{x} & q_{y} & q_{z} & w_{x} & w_{y} & w_{z}\\end{array}\\right]$"
      ],
      "text/plain": [
       "[rₓ  r_y  r_z  vₓ  v_y  v_z  q_w  qₓ  q_y  q_z  wₓ  w_y  w_z]"
      ]
     },
     "metadata": {},
     "output_type": "display_data"
    },
    {
     "data": {
      "text/latex": [
       "$\\displaystyle \\left[\\begin{matrix}v_{x}\\\\v_{y}\\\\v_{z}\\\\\\frac{\\left(2 q_{w} q_{y} + 2 q_{x} q_{z}\\right) \\left(- k_{F} w_{m1}^{2} - k_{F} w_{m2}^{2} - k_{F} w_{m3}^{2} - k_{F} w_{m4}^{2}\\right)}{m}\\\\\\frac{\\left(- 2 q_{w} q_{x} + 2 q_{y} q_{z}\\right) \\left(- k_{F} w_{m1}^{2} - k_{F} w_{m2}^{2} - k_{F} w_{m3}^{2} - k_{F} w_{m4}^{2}\\right)}{m}\\\\g + \\frac{\\left(q_{w}^{2} - q_{x}^{2} - q_{y}^{2} + q_{z}^{2}\\right) \\left(- k_{F} w_{m1}^{2} - k_{F} w_{m2}^{2} - k_{F} w_{m3}^{2} - k_{F} w_{m4}^{2}\\right)}{m}\\\\- 0.5 q_{x} w_{x} - 0.5 q_{y} w_{y} - 0.5 q_{z} w_{z}\\\\0.5 q_{w} w_{x} + 0.5 q_{y} w_{z} - 0.5 q_{z} w_{y}\\\\0.5 q_{w} w_{y} - 0.5 q_{x} w_{z} + 0.5 q_{z} w_{x}\\\\0.5 q_{w} w_{z} + 0.5 q_{x} w_{y} - 0.5 q_{y} w_{x}\\\\\\frac{I_{yy} w_{y} w_{z} - I_{zz} w_{y} w_{z} + L \\left(- k_{F} w_{m2}^{2} + k_{F} w_{m4}^{2}\\right)}{I_{xx}}\\\\\\frac{- I_{xx} w_{x} w_{z} + I_{zz} w_{x} w_{z} + L \\left(k_{F} w_{m1}^{2} - k_{F} w_{m3}^{2}\\right)}{I_{yy}}\\\\\\frac{I_{xx} w_{x} w_{y} - I_{yy} w_{x} w_{y} - k_{M} w_{m1}^{2} + k_{M} w_{m2}^{2} - k_{M} w_{m3}^{2} + k_{M} w_{m4}^{2}}{I_{zz}}\\end{matrix}\\right]$"
      ],
      "text/plain": [
       "⎡                                     vₓ                                     ⎤\n",
       "⎢                                                                            ⎥\n",
       "⎢                                    v_y                                     ⎥\n",
       "⎢                                                                            ⎥\n",
       "⎢                                    v_z                                     ⎥\n",
       "⎢                                                                            ⎥\n",
       "⎢                           ⎛         2          2          2          2⎞    ⎥\n",
       "⎢    (2⋅q_w⋅q_y + 2⋅qₓ⋅q_z)⋅⎝- k_F⋅wₘ₁  - k_F⋅wₘ₂  - k_F⋅wₘ₃  - k_F⋅wₘ₄ ⎠    ⎥\n",
       "⎢    ────────────────────────────────────────────────────────────────────    ⎥\n",
       "⎢                                     m                                      ⎥\n",
       "⎢                                                                            ⎥\n",
       "⎢                           ⎛         2          2          2          2⎞    ⎥\n",
       "⎢   (-2⋅q_w⋅qₓ + 2⋅q_y⋅q_z)⋅⎝- k_F⋅wₘ₁  - k_F⋅wₘ₂  - k_F⋅wₘ₃  - k_F⋅wₘ₄ ⎠    ⎥\n",
       "⎢   ─────────────────────────────────────────────────────────────────────    ⎥\n",
       "⎢                                     m                                      ⎥\n",
       "⎢                                                                            ⎥\n",
       "⎢    ⎛   2     2      2      2⎞ ⎛         2          2          2          2⎞⎥\n",
       "⎢    ⎝q_w  - qₓ  - q_y  + q_z ⎠⋅⎝- k_F⋅wₘ₁  - k_F⋅wₘ₂  - k_F⋅wₘ₃  - k_F⋅wₘ₄ ⎠⎥\n",
       "⎢g + ────────────────────────────────────────────────────────────────────────⎥\n",
       "⎢                                       m                                    ⎥\n",
       "⎢                                                                            ⎥\n",
       "⎢                   -0.5⋅qₓ⋅wₓ - 0.5⋅q_y⋅w_y - 0.5⋅q_z⋅w_z                   ⎥\n",
       "⎢                                                                            ⎥\n",
       "⎢                   0.5⋅q_w⋅wₓ + 0.5⋅q_y⋅w_z - 0.5⋅q_z⋅w_y                   ⎥\n",
       "⎢                                                                            ⎥\n",
       "⎢                   0.5⋅q_w⋅w_y - 0.5⋅qₓ⋅w_z + 0.5⋅q_z⋅wₓ                    ⎥\n",
       "⎢                                                                            ⎥\n",
       "⎢                   0.5⋅q_w⋅w_z + 0.5⋅qₓ⋅w_y - 0.5⋅q_y⋅wₓ                    ⎥\n",
       "⎢                                                                            ⎥\n",
       "⎢                                          ⎛         2          2⎞           ⎥\n",
       "⎢          I_yy⋅w_y⋅w_z - I_zz⋅w_y⋅w_z + L⋅⎝- k_F⋅wₘ₂  + k_F⋅wₘ₄ ⎠           ⎥\n",
       "⎢          ───────────────────────────────────────────────────────           ⎥\n",
       "⎢                                    Iₓₓ                                     ⎥\n",
       "⎢                                                                            ⎥\n",
       "⎢                                          ⎛       2          2⎞             ⎥\n",
       "⎢            -Iₓₓ⋅wₓ⋅w_z + I_zz⋅wₓ⋅w_z + L⋅⎝k_F⋅wₘ₁  - k_F⋅wₘ₃ ⎠             ⎥\n",
       "⎢            ───────────────────────────────────────────────────             ⎥\n",
       "⎢                                    I_yy                                    ⎥\n",
       "⎢                                                                            ⎥\n",
       "⎢                                      2          2          2          2    ⎥\n",
       "⎢    Iₓₓ⋅wₓ⋅w_y - I_yy⋅wₓ⋅w_y - k_M⋅wₘ₁  + k_M⋅wₘ₂  - k_M⋅wₘ₃  + k_M⋅wₘ₄     ⎥\n",
       "⎢    ────────────────────────────────────────────────────────────────────    ⎥\n",
       "⎣                                    I_zz                                    ⎦"
      ]
     },
     "metadata": {},
     "output_type": "display_data"
    },
    {
     "name": "stdout",
     "output_type": "stream",
     "text": [
      "Matrix([\n",
      "[                                                                                               v_x],\n",
      "[                                                                                               v_y],\n",
      "[                                                                                               v_z],\n",
      "[                (2*q_w*q_y + 2*q_x*q_z)*(-k_F*w_m1**2 - k_F*w_m2**2 - k_F*w_m3**2 - k_F*w_m4**2)/m],\n",
      "[               (-2*q_w*q_x + 2*q_y*q_z)*(-k_F*w_m1**2 - k_F*w_m2**2 - k_F*w_m3**2 - k_F*w_m4**2)/m],\n",
      "[g + (q_w**2 - q_x**2 - q_y**2 + q_z**2)*(-k_F*w_m1**2 - k_F*w_m2**2 - k_F*w_m3**2 - k_F*w_m4**2)/m],\n",
      "[                                                          -0.5*q_x*w_x - 0.5*q_y*w_y - 0.5*q_z*w_z],\n",
      "[                                                           0.5*q_w*w_x + 0.5*q_y*w_z - 0.5*q_z*w_y],\n",
      "[                                                           0.5*q_w*w_y - 0.5*q_x*w_z + 0.5*q_z*w_x],\n",
      "[                                                           0.5*q_w*w_z + 0.5*q_x*w_y - 0.5*q_y*w_x],\n",
      "[                               (I_yy*w_y*w_z - I_zz*w_y*w_z + L*(-k_F*w_m2**2 + k_F*w_m4**2))/I_xx],\n",
      "[                               (-I_xx*w_x*w_z + I_zz*w_x*w_z + L*(k_F*w_m1**2 - k_F*w_m3**2))/I_yy],\n",
      "[        (I_xx*w_x*w_y - I_yy*w_x*w_y - k_M*w_m1**2 + k_M*w_m2**2 - k_M*w_m3**2 + k_M*w_m4**2)/I_zz]])\n"
     ]
    }
   ],
   "source": [
    "state = Matrix([r_BwrtLexpL, v_BwrtLexpL, q_toLfromB, wb])\n",
    "dstate = Matrix([\n",
    "    v_BwrtLexpL,\n",
    "    a_BwrtLexpL,\n",
    "    qDot,\n",
    "    wbDot\n",
    "])\n",
    "display(state.T)\n",
    "display(dstate)\n",
    "\n",
    "mprint(dstate)\n"
   ]
  },
  {
   "cell_type": "code",
   "execution_count": 14,
   "metadata": {},
   "outputs": [],
   "source": [
    "from sympy.physics.mechanics import *\n",
    "from sympy import sin, cos, symbols, Matrix, solve"
   ]
  },
  {
   "cell_type": "code",
   "execution_count": 15,
   "metadata": {},
   "outputs": [],
   "source": [
    "# Inertial Reference Frame\n",
    "N = ReferenceFrame('N')\n",
    "\n",
    "# Define world corredinate origin\n",
    "O = Point('O')\n",
    "O.set_vel(N, 0.0)"
   ]
  },
  {
   "cell_type": "code",
   "execution_count": null,
   "metadata": {},
   "outputs": [],
   "source": []
  },
  {
   "cell_type": "code",
   "execution_count": null,
   "metadata": {},
   "outputs": [],
   "source": []
  },
  {
   "cell_type": "code",
   "execution_count": null,
   "metadata": {},
   "outputs": [],
   "source": []
  }
 ],
 "metadata": {
  "kernelspec": {
   "display_name": "Python 3",
   "language": "python",
   "name": "python3"
  },
  "language_info": {
   "codemirror_mode": {
    "name": "ipython",
    "version": 3
   },
   "file_extension": ".py",
   "mimetype": "text/x-python",
   "name": "python",
   "nbconvert_exporter": "python",
   "pygments_lexer": "ipython3",
   "version": "3.8.6"
  }
 },
 "nbformat": 4,
 "nbformat_minor": 4
}
